{
  "nbformat": 4,
  "nbformat_minor": 0,
  "metadata": {
    "colab": {
      "provenance": [],
      "gpuType": "T4",
      "authorship_tag": "ABX9TyMixbo+Wk0kQjUL+M/qhrBC"
    },
    "kernelspec": {
      "name": "python3",
      "display_name": "Python 3"
    },
    "language_info": {
      "name": "python"
    },
    "accelerator": "GPU"
  },
  "cells": [
    {
      "cell_type": "code",
      "source": [
        "import pandas as pd\n",
        "import numpy as np\n",
        "from sklearn.preprocessing import LabelEncoder\n",
        "import re\n",
        "from sklearn.feature_extraction.text import CountVectorizer\n",
        "from sklearn.metrics.pairwise import cosine_similarity\n",
        "from scipy.sparse import vstack\n"
      ],
      "metadata": {
        "id": "8UBE8C-yzcop"
      },
      "execution_count": 1,
      "outputs": []
    },
    {
      "cell_type": "markdown",
      "source": [
        "Download data from kaggle"
      ],
      "metadata": {
        "id": "a2EZuBdLt_QX"
      }
    },
    {
      "cell_type": "code",
      "execution_count": null,
      "metadata": {
        "id": "MIbTkCEaxw_k"
      },
      "outputs": [],
      "source": [
        "#!mkdir ~/.kaggle\n",
        "#!cp kaggle.json ~/.kaggle/\n",
        "#!chmod 600 ~/.kaggle/kaggle.json\n",
        "#!kaggle datasets download -d lakshmi25npathi/online-retail-dataset"
      ]
    },
    {
      "cell_type": "markdown",
      "source": [
        "Extract Data"
      ],
      "metadata": {
        "id": "jRRrRt1CuFji"
      }
    },
    {
      "cell_type": "code",
      "source": [
        "#!unzip online-retail-dataset.zip\n",
        "df=pd.read_excel(\"online_retail.xlsx\")"
      ],
      "metadata": {
        "id": "SJvm0mIgzZzI"
      },
      "execution_count": 2,
      "outputs": []
    },
    {
      "cell_type": "code",
      "source": [
        "df\n",
        "# df.info()\n",
        "# df.describe()"
      ],
      "metadata": {
        "id": "JmrHD1ke00Is"
      },
      "execution_count": null,
      "outputs": []
    },
    {
      "cell_type": "markdown",
      "source": [
        "Data type casting"
      ],
      "metadata": {
        "id": "fqJNOY0buJ3A"
      }
    },
    {
      "cell_type": "code",
      "source": [
        "def auto_data_type(df):\n",
        "    for col in df.select_dtypes(include=[np.number]).columns:\n",
        "        min_value = df[col].min()\n",
        "        max_value = df[col].max()\n",
        "\n",
        "        if pd.api.types.is_float_dtype(df[col]):\n",
        "            df[col] = df[col].astype(np.float32)\n",
        "        elif min_value >= 0:\n",
        "            if max_value <= 255:\n",
        "                df[col] = df[col].astype(np.uint8)\n",
        "            elif max_value <= 65535:\n",
        "                df[col] = df[col].astype(np.uint16)\n",
        "            elif max_value <= 4294967295:\n",
        "                df[col] = df[col].astype(np.uint32)\n",
        "            else:\n",
        "                df[col] = df[col].astype(np.uint64)\n",
        "        else:\n",
        "            if -128 <= min_value and max_value <= 127:\n",
        "                df[col] = df[col].astype(np.int8)\n",
        "            elif -32768 <= min_value and max_value <= 32767:\n",
        "                df[col] = df[col].astype(np.int16)\n",
        "            elif -2147483648 <= min_value and max_value <= 2147483647:\n",
        "                df[col] = df[col].astype(np.int32)\n",
        "            else:\n",
        "                df[col] = df[col].astype(np.int64)\n",
        "    return df\n",
        "\n",
        "\n",
        "clean_df=auto_data_type(df)\n",
        "#df.info()\n"
      ],
      "metadata": {
        "id": "m-bcxVBe27R3"
      },
      "execution_count": 4,
      "outputs": []
    },
    {
      "cell_type": "markdown",
      "source": [
        "drop rows with missing Customer ID"
      ],
      "metadata": {
        "id": "ubIyn3SAuQBG"
      }
    },
    {
      "cell_type": "code",
      "source": [
        "df = df.dropna(subset=[\"Customer ID\"])\n",
        "df[\"Customer ID\"] = df[\"Customer ID\"].astype(np.uint16)"
      ],
      "metadata": {
        "id": "ZPCqCDrX3Xde"
      },
      "execution_count": null,
      "outputs": []
    },
    {
      "cell_type": "markdown",
      "source": [
        "Remove rows with duplicate entries, missing and negative Quantity"
      ],
      "metadata": {
        "id": "z7cYBrpxu6vm"
      }
    },
    {
      "cell_type": "code",
      "source": [
        "df_copy=df.copy()\n",
        "df_copy = df_copy.drop_duplicates()\n",
        "df_copy = df_copy[df_copy[\"Quantity\"] >= 0]\n",
        "df_copy.info()\n"
      ],
      "metadata": {
        "id": "LD7eAPMXoqHF"
      },
      "execution_count": null,
      "outputs": []
    },
    {
      "cell_type": "markdown",
      "source": [
        "Encode Country column to numeric labels"
      ],
      "metadata": {
        "id": "HjO9sQhOvqX9"
      }
    },
    {
      "cell_type": "code",
      "source": [
        "le = LabelEncoder()\n",
        "df_copy[\"Country_Code\"] = le.fit_transform(df_copy[\"Country\"].astype(str)).astype(np.uint8)"
      ],
      "metadata": {
        "id": "_1EiTKxrvX1_"
      },
      "execution_count": 38,
      "outputs": []
    },
    {
      "cell_type": "code",
      "source": [
        "df_copy = df_copy.drop(columns=[\"Country\"])"
      ],
      "metadata": {
        "id": "EOmchWCwpFz0"
      },
      "execution_count": null,
      "outputs": []
    },
    {
      "cell_type": "code",
      "source": [
        "main_df = df_copy.copy()\n",
        "\n",
        "main_df[\"Description\"] = main_df[\"Description\"].str.lower()\n",
        "\n",
        "invoice_df = main_df.groupby(\"Invoice\")[\"Description\"].apply(lambda x: \" \".join(x)).reset_index()\n",
        "\n",
        "def clean_text(text):\n",
        "    text = text.lower()\n",
        "    text = re.sub(r\"[^a-z\\s]\", \" \", text)\n",
        "    text = re.sub(r\"\\b[a-z]*\\d+[a-z]*\\b\", \" \", text)\n",
        "    text = re.sub(r\"\\s+\", \" \", text).strip()\n",
        "    text = re.sub(r\"\\b\\d+\\w*\\b\", \"\", text)\n",
        "    text = re.sub(r\"\\b(on|the|and|at|with|to|for|in|of|by)\\b\", \"\", text)\n",
        "    return text\n",
        "\n",
        "invoice_df[\"MixedDescription\"] = invoice_df[\"Description\"].apply(clean_text)\n",
        "\n",
        "vectorizer = CountVectorizer(stop_words=\"english\")\n",
        "X = vectorizer.fit_transform(invoice_df[\"MixedDescription\"])\n",
        "\n",
        "#counter = vectorizer.vocabulary_.get(\"mug\")\n"
      ],
      "metadata": {
        "id": "AHABUEYN0BKM"
      },
      "execution_count": 50,
      "outputs": []
    }
  ]
}