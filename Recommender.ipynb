{
  "nbformat": 4,
  "nbformat_minor": 0,
  "metadata": {
    "colab": {
      "provenance": [],
      "gpuType": "T4",
      "authorship_tag": "ABX9TyNfzuz2fjKfim6eoKvQdTan"
    },
    "kernelspec": {
      "name": "python3",
      "display_name": "Python 3"
    },
    "language_info": {
      "name": "python"
    },
    "accelerator": "GPU"
  },
  "cells": [
    {
      "cell_type": "code",
      "source": [
        "import pandas as pd\n",
        "import numpy as np\n",
        "from sklearn.preprocessing import LabelEncoder"
      ],
      "metadata": {
        "id": "8UBE8C-yzcop"
      },
      "execution_count": 72,
      "outputs": []
    },
    {
      "cell_type": "markdown",
      "source": [
        "Download data from kaggle"
      ],
      "metadata": {
        "id": "a2EZuBdLt_QX"
      }
    },
    {
      "cell_type": "code",
      "execution_count": 73,
      "metadata": {
        "id": "MIbTkCEaxw_k"
      },
      "outputs": [],
      "source": [
        "#!mkdir ~/.kaggle\n",
        "#!cp kaggle.json ~/.kaggle/\n",
        "#!chmod 600 ~/.kaggle/kaggle.json\n",
        "#!kaggle datasets download -d lakshmi25npathi/online-retail-dataset"
      ]
    },
    {
      "cell_type": "markdown",
      "source": [
        "Extract Data"
      ],
      "metadata": {
        "id": "jRRrRt1CuFji"
      }
    },
    {
      "cell_type": "code",
      "source": [
        "#!unzip online-retail-dataset.zip\n",
        "df=pd.read_excel(\"online_retail.xlsx\")"
      ],
      "metadata": {
        "id": "SJvm0mIgzZzI"
      },
      "execution_count": 80,
      "outputs": []
    },
    {
      "cell_type": "code",
      "source": [
        "df\n",
        "# df.info()\n",
        "# df.describe()"
      ],
      "metadata": {
        "colab": {
          "base_uri": "https://localhost:8080/",
          "height": 423
        },
        "id": "JmrHD1ke00Is",
        "outputId": "742893d3-fa3c-44d3-e830-15aa977e89a3"
      },
      "execution_count": 87,
      "outputs": [
        {
          "output_type": "execute_result",
          "data": {
            "text/plain": [
              "       Invoice StockCode                          Description  Quantity  \\\n",
              "0       489434     85048  15CM CHRISTMAS GLASS BALL 20 LIGHTS        12   \n",
              "1       489434    79323P                   PINK CHERRY LIGHTS        12   \n",
              "2       489434    79323W                  WHITE CHERRY LIGHTS        12   \n",
              "3       489434     22041         RECORD FRAME 7\" SINGLE SIZE         48   \n",
              "4       489434     21232       STRAWBERRY CERAMIC TRINKET BOX        24   \n",
              "...        ...       ...                                  ...       ...   \n",
              "525456  538171     22271                 FELTCRAFT DOLL ROSIE         2   \n",
              "525457  538171     22750         FELTCRAFT PRINCESS LOLA DOLL         1   \n",
              "525458  538171     22751       FELTCRAFT PRINCESS OLIVIA DOLL         1   \n",
              "525459  538171     20970   PINK FLORAL FELTCRAFT SHOULDER BAG         2   \n",
              "525460  538171     21931               JUMBO STORAGE BAG SUKI         2   \n",
              "\n",
              "               InvoiceDate  Price  Customer ID         Country  \n",
              "0      2009-12-01 07:45:00   6.95        13085  United Kingdom  \n",
              "1      2009-12-01 07:45:00   6.75        13085  United Kingdom  \n",
              "2      2009-12-01 07:45:00   6.75        13085  United Kingdom  \n",
              "3      2009-12-01 07:45:00   2.10        13085  United Kingdom  \n",
              "4      2009-12-01 07:45:00   1.25        13085  United Kingdom  \n",
              "...                    ...    ...          ...             ...  \n",
              "525456 2010-12-09 20:01:00   2.95        17530  United Kingdom  \n",
              "525457 2010-12-09 20:01:00   3.75        17530  United Kingdom  \n",
              "525458 2010-12-09 20:01:00   3.75        17530  United Kingdom  \n",
              "525459 2010-12-09 20:01:00   3.75        17530  United Kingdom  \n",
              "525460 2010-12-09 20:01:00   1.95        17530  United Kingdom  \n",
              "\n",
              "[417534 rows x 8 columns]"
            ],
            "text/html": [
              "\n",
              "  <div id=\"df-4d72e66b-11ca-4122-a90b-4cb04a131300\" class=\"colab-df-container\">\n",
              "    <div>\n",
              "<style scoped>\n",
              "    .dataframe tbody tr th:only-of-type {\n",
              "        vertical-align: middle;\n",
              "    }\n",
              "\n",
              "    .dataframe tbody tr th {\n",
              "        vertical-align: top;\n",
              "    }\n",
              "\n",
              "    .dataframe thead th {\n",
              "        text-align: right;\n",
              "    }\n",
              "</style>\n",
              "<table border=\"1\" class=\"dataframe\">\n",
              "  <thead>\n",
              "    <tr style=\"text-align: right;\">\n",
              "      <th></th>\n",
              "      <th>Invoice</th>\n",
              "      <th>StockCode</th>\n",
              "      <th>Description</th>\n",
              "      <th>Quantity</th>\n",
              "      <th>InvoiceDate</th>\n",
              "      <th>Price</th>\n",
              "      <th>Customer ID</th>\n",
              "      <th>Country</th>\n",
              "    </tr>\n",
              "  </thead>\n",
              "  <tbody>\n",
              "    <tr>\n",
              "      <th>0</th>\n",
              "      <td>489434</td>\n",
              "      <td>85048</td>\n",
              "      <td>15CM CHRISTMAS GLASS BALL 20 LIGHTS</td>\n",
              "      <td>12</td>\n",
              "      <td>2009-12-01 07:45:00</td>\n",
              "      <td>6.95</td>\n",
              "      <td>13085</td>\n",
              "      <td>United Kingdom</td>\n",
              "    </tr>\n",
              "    <tr>\n",
              "      <th>1</th>\n",
              "      <td>489434</td>\n",
              "      <td>79323P</td>\n",
              "      <td>PINK CHERRY LIGHTS</td>\n",
              "      <td>12</td>\n",
              "      <td>2009-12-01 07:45:00</td>\n",
              "      <td>6.75</td>\n",
              "      <td>13085</td>\n",
              "      <td>United Kingdom</td>\n",
              "    </tr>\n",
              "    <tr>\n",
              "      <th>2</th>\n",
              "      <td>489434</td>\n",
              "      <td>79323W</td>\n",
              "      <td>WHITE CHERRY LIGHTS</td>\n",
              "      <td>12</td>\n",
              "      <td>2009-12-01 07:45:00</td>\n",
              "      <td>6.75</td>\n",
              "      <td>13085</td>\n",
              "      <td>United Kingdom</td>\n",
              "    </tr>\n",
              "    <tr>\n",
              "      <th>3</th>\n",
              "      <td>489434</td>\n",
              "      <td>22041</td>\n",
              "      <td>RECORD FRAME 7\" SINGLE SIZE</td>\n",
              "      <td>48</td>\n",
              "      <td>2009-12-01 07:45:00</td>\n",
              "      <td>2.10</td>\n",
              "      <td>13085</td>\n",
              "      <td>United Kingdom</td>\n",
              "    </tr>\n",
              "    <tr>\n",
              "      <th>4</th>\n",
              "      <td>489434</td>\n",
              "      <td>21232</td>\n",
              "      <td>STRAWBERRY CERAMIC TRINKET BOX</td>\n",
              "      <td>24</td>\n",
              "      <td>2009-12-01 07:45:00</td>\n",
              "      <td>1.25</td>\n",
              "      <td>13085</td>\n",
              "      <td>United Kingdom</td>\n",
              "    </tr>\n",
              "    <tr>\n",
              "      <th>...</th>\n",
              "      <td>...</td>\n",
              "      <td>...</td>\n",
              "      <td>...</td>\n",
              "      <td>...</td>\n",
              "      <td>...</td>\n",
              "      <td>...</td>\n",
              "      <td>...</td>\n",
              "      <td>...</td>\n",
              "    </tr>\n",
              "    <tr>\n",
              "      <th>525456</th>\n",
              "      <td>538171</td>\n",
              "      <td>22271</td>\n",
              "      <td>FELTCRAFT DOLL ROSIE</td>\n",
              "      <td>2</td>\n",
              "      <td>2010-12-09 20:01:00</td>\n",
              "      <td>2.95</td>\n",
              "      <td>17530</td>\n",
              "      <td>United Kingdom</td>\n",
              "    </tr>\n",
              "    <tr>\n",
              "      <th>525457</th>\n",
              "      <td>538171</td>\n",
              "      <td>22750</td>\n",
              "      <td>FELTCRAFT PRINCESS LOLA DOLL</td>\n",
              "      <td>1</td>\n",
              "      <td>2010-12-09 20:01:00</td>\n",
              "      <td>3.75</td>\n",
              "      <td>17530</td>\n",
              "      <td>United Kingdom</td>\n",
              "    </tr>\n",
              "    <tr>\n",
              "      <th>525458</th>\n",
              "      <td>538171</td>\n",
              "      <td>22751</td>\n",
              "      <td>FELTCRAFT PRINCESS OLIVIA DOLL</td>\n",
              "      <td>1</td>\n",
              "      <td>2010-12-09 20:01:00</td>\n",
              "      <td>3.75</td>\n",
              "      <td>17530</td>\n",
              "      <td>United Kingdom</td>\n",
              "    </tr>\n",
              "    <tr>\n",
              "      <th>525459</th>\n",
              "      <td>538171</td>\n",
              "      <td>20970</td>\n",
              "      <td>PINK FLORAL FELTCRAFT SHOULDER BAG</td>\n",
              "      <td>2</td>\n",
              "      <td>2010-12-09 20:01:00</td>\n",
              "      <td>3.75</td>\n",
              "      <td>17530</td>\n",
              "      <td>United Kingdom</td>\n",
              "    </tr>\n",
              "    <tr>\n",
              "      <th>525460</th>\n",
              "      <td>538171</td>\n",
              "      <td>21931</td>\n",
              "      <td>JUMBO STORAGE BAG SUKI</td>\n",
              "      <td>2</td>\n",
              "      <td>2010-12-09 20:01:00</td>\n",
              "      <td>1.95</td>\n",
              "      <td>17530</td>\n",
              "      <td>United Kingdom</td>\n",
              "    </tr>\n",
              "  </tbody>\n",
              "</table>\n",
              "<p>417534 rows × 8 columns</p>\n",
              "</div>\n",
              "    <div class=\"colab-df-buttons\">\n",
              "\n",
              "  <div class=\"colab-df-container\">\n",
              "    <button class=\"colab-df-convert\" onclick=\"convertToInteractive('df-4d72e66b-11ca-4122-a90b-4cb04a131300')\"\n",
              "            title=\"Convert this dataframe to an interactive table.\"\n",
              "            style=\"display:none;\">\n",
              "\n",
              "  <svg xmlns=\"http://www.w3.org/2000/svg\" height=\"24px\" viewBox=\"0 -960 960 960\">\n",
              "    <path d=\"M120-120v-720h720v720H120Zm60-500h600v-160H180v160Zm220 220h160v-160H400v160Zm0 220h160v-160H400v160ZM180-400h160v-160H180v160Zm440 0h160v-160H620v160ZM180-180h160v-160H180v160Zm440 0h160v-160H620v160Z\"/>\n",
              "  </svg>\n",
              "    </button>\n",
              "\n",
              "  <style>\n",
              "    .colab-df-container {\n",
              "      display:flex;\n",
              "      gap: 12px;\n",
              "    }\n",
              "\n",
              "    .colab-df-convert {\n",
              "      background-color: #E8F0FE;\n",
              "      border: none;\n",
              "      border-radius: 50%;\n",
              "      cursor: pointer;\n",
              "      display: none;\n",
              "      fill: #1967D2;\n",
              "      height: 32px;\n",
              "      padding: 0 0 0 0;\n",
              "      width: 32px;\n",
              "    }\n",
              "\n",
              "    .colab-df-convert:hover {\n",
              "      background-color: #E2EBFA;\n",
              "      box-shadow: 0px 1px 2px rgba(60, 64, 67, 0.3), 0px 1px 3px 1px rgba(60, 64, 67, 0.15);\n",
              "      fill: #174EA6;\n",
              "    }\n",
              "\n",
              "    .colab-df-buttons div {\n",
              "      margin-bottom: 4px;\n",
              "    }\n",
              "\n",
              "    [theme=dark] .colab-df-convert {\n",
              "      background-color: #3B4455;\n",
              "      fill: #D2E3FC;\n",
              "    }\n",
              "\n",
              "    [theme=dark] .colab-df-convert:hover {\n",
              "      background-color: #434B5C;\n",
              "      box-shadow: 0px 1px 3px 1px rgba(0, 0, 0, 0.15);\n",
              "      filter: drop-shadow(0px 1px 2px rgba(0, 0, 0, 0.3));\n",
              "      fill: #FFFFFF;\n",
              "    }\n",
              "  </style>\n",
              "\n",
              "    <script>\n",
              "      const buttonEl =\n",
              "        document.querySelector('#df-4d72e66b-11ca-4122-a90b-4cb04a131300 button.colab-df-convert');\n",
              "      buttonEl.style.display =\n",
              "        google.colab.kernel.accessAllowed ? 'block' : 'none';\n",
              "\n",
              "      async function convertToInteractive(key) {\n",
              "        const element = document.querySelector('#df-4d72e66b-11ca-4122-a90b-4cb04a131300');\n",
              "        const dataTable =\n",
              "          await google.colab.kernel.invokeFunction('convertToInteractive',\n",
              "                                                    [key], {});\n",
              "        if (!dataTable) return;\n",
              "\n",
              "        const docLinkHtml = 'Like what you see? Visit the ' +\n",
              "          '<a target=\"_blank\" href=https://colab.research.google.com/notebooks/data_table.ipynb>data table notebook</a>'\n",
              "          + ' to learn more about interactive tables.';\n",
              "        element.innerHTML = '';\n",
              "        dataTable['output_type'] = 'display_data';\n",
              "        await google.colab.output.renderOutput(dataTable, element);\n",
              "        const docLink = document.createElement('div');\n",
              "        docLink.innerHTML = docLinkHtml;\n",
              "        element.appendChild(docLink);\n",
              "      }\n",
              "    </script>\n",
              "  </div>\n",
              "\n",
              "\n",
              "    <div id=\"df-82b9d2c0-f720-469a-b576-6b2d58103f79\">\n",
              "      <button class=\"colab-df-quickchart\" onclick=\"quickchart('df-82b9d2c0-f720-469a-b576-6b2d58103f79')\"\n",
              "                title=\"Suggest charts\"\n",
              "                style=\"display:none;\">\n",
              "\n",
              "<svg xmlns=\"http://www.w3.org/2000/svg\" height=\"24px\"viewBox=\"0 0 24 24\"\n",
              "     width=\"24px\">\n",
              "    <g>\n",
              "        <path d=\"M19 3H5c-1.1 0-2 .9-2 2v14c0 1.1.9 2 2 2h14c1.1 0 2-.9 2-2V5c0-1.1-.9-2-2-2zM9 17H7v-7h2v7zm4 0h-2V7h2v10zm4 0h-2v-4h2v4z\"/>\n",
              "    </g>\n",
              "</svg>\n",
              "      </button>\n",
              "\n",
              "<style>\n",
              "  .colab-df-quickchart {\n",
              "      --bg-color: #E8F0FE;\n",
              "      --fill-color: #1967D2;\n",
              "      --hover-bg-color: #E2EBFA;\n",
              "      --hover-fill-color: #174EA6;\n",
              "      --disabled-fill-color: #AAA;\n",
              "      --disabled-bg-color: #DDD;\n",
              "  }\n",
              "\n",
              "  [theme=dark] .colab-df-quickchart {\n",
              "      --bg-color: #3B4455;\n",
              "      --fill-color: #D2E3FC;\n",
              "      --hover-bg-color: #434B5C;\n",
              "      --hover-fill-color: #FFFFFF;\n",
              "      --disabled-bg-color: #3B4455;\n",
              "      --disabled-fill-color: #666;\n",
              "  }\n",
              "\n",
              "  .colab-df-quickchart {\n",
              "    background-color: var(--bg-color);\n",
              "    border: none;\n",
              "    border-radius: 50%;\n",
              "    cursor: pointer;\n",
              "    display: none;\n",
              "    fill: var(--fill-color);\n",
              "    height: 32px;\n",
              "    padding: 0;\n",
              "    width: 32px;\n",
              "  }\n",
              "\n",
              "  .colab-df-quickchart:hover {\n",
              "    background-color: var(--hover-bg-color);\n",
              "    box-shadow: 0 1px 2px rgba(60, 64, 67, 0.3), 0 1px 3px 1px rgba(60, 64, 67, 0.15);\n",
              "    fill: var(--button-hover-fill-color);\n",
              "  }\n",
              "\n",
              "  .colab-df-quickchart-complete:disabled,\n",
              "  .colab-df-quickchart-complete:disabled:hover {\n",
              "    background-color: var(--disabled-bg-color);\n",
              "    fill: var(--disabled-fill-color);\n",
              "    box-shadow: none;\n",
              "  }\n",
              "\n",
              "  .colab-df-spinner {\n",
              "    border: 2px solid var(--fill-color);\n",
              "    border-color: transparent;\n",
              "    border-bottom-color: var(--fill-color);\n",
              "    animation:\n",
              "      spin 1s steps(1) infinite;\n",
              "  }\n",
              "\n",
              "  @keyframes spin {\n",
              "    0% {\n",
              "      border-color: transparent;\n",
              "      border-bottom-color: var(--fill-color);\n",
              "      border-left-color: var(--fill-color);\n",
              "    }\n",
              "    20% {\n",
              "      border-color: transparent;\n",
              "      border-left-color: var(--fill-color);\n",
              "      border-top-color: var(--fill-color);\n",
              "    }\n",
              "    30% {\n",
              "      border-color: transparent;\n",
              "      border-left-color: var(--fill-color);\n",
              "      border-top-color: var(--fill-color);\n",
              "      border-right-color: var(--fill-color);\n",
              "    }\n",
              "    40% {\n",
              "      border-color: transparent;\n",
              "      border-right-color: var(--fill-color);\n",
              "      border-top-color: var(--fill-color);\n",
              "    }\n",
              "    60% {\n",
              "      border-color: transparent;\n",
              "      border-right-color: var(--fill-color);\n",
              "    }\n",
              "    80% {\n",
              "      border-color: transparent;\n",
              "      border-right-color: var(--fill-color);\n",
              "      border-bottom-color: var(--fill-color);\n",
              "    }\n",
              "    90% {\n",
              "      border-color: transparent;\n",
              "      border-bottom-color: var(--fill-color);\n",
              "    }\n",
              "  }\n",
              "</style>\n",
              "\n",
              "      <script>\n",
              "        async function quickchart(key) {\n",
              "          const quickchartButtonEl =\n",
              "            document.querySelector('#' + key + ' button');\n",
              "          quickchartButtonEl.disabled = true;  // To prevent multiple clicks.\n",
              "          quickchartButtonEl.classList.add('colab-df-spinner');\n",
              "          try {\n",
              "            const charts = await google.colab.kernel.invokeFunction(\n",
              "                'suggestCharts', [key], {});\n",
              "          } catch (error) {\n",
              "            console.error('Error during call to suggestCharts:', error);\n",
              "          }\n",
              "          quickchartButtonEl.classList.remove('colab-df-spinner');\n",
              "          quickchartButtonEl.classList.add('colab-df-quickchart-complete');\n",
              "        }\n",
              "        (() => {\n",
              "          let quickchartButtonEl =\n",
              "            document.querySelector('#df-82b9d2c0-f720-469a-b576-6b2d58103f79 button');\n",
              "          quickchartButtonEl.style.display =\n",
              "            google.colab.kernel.accessAllowed ? 'block' : 'none';\n",
              "        })();\n",
              "      </script>\n",
              "    </div>\n",
              "    </div>\n",
              "  </div>\n"
            ],
            "application/vnd.google.colaboratory.intrinsic+json": {
              "type": "dataframe",
              "variable_name": "df"
            }
          },
          "metadata": {},
          "execution_count": 87
        }
      ]
    },
    {
      "cell_type": "markdown",
      "source": [
        "Data type casting"
      ],
      "metadata": {
        "id": "fqJNOY0buJ3A"
      }
    },
    {
      "cell_type": "code",
      "source": [
        "def auto_data_type(df):\n",
        "    for col in df.select_dtypes(include=[np.number]).columns:\n",
        "        min_value = df[col].min()\n",
        "        max_value = df[col].max()\n",
        "\n",
        "        if pd.api.types.is_float_dtype(df[col]):\n",
        "            df[col] = df[col].astype(np.float32)\n",
        "        elif min_value >= 0:\n",
        "            if max_value <= 255:\n",
        "                df[col] = df[col].astype(np.uint8)\n",
        "            elif max_value <= 65535:\n",
        "                df[col] = df[col].astype(np.uint16)\n",
        "            elif max_value <= 4294967295:\n",
        "                df[col] = df[col].astype(np.uint32)\n",
        "            else:\n",
        "                df[col] = df[col].astype(np.uint64)\n",
        "        else:\n",
        "            if -128 <= min_value and max_value <= 127:\n",
        "                df[col] = df[col].astype(np.int8)\n",
        "            elif -32768 <= min_value and max_value <= 32767:\n",
        "                df[col] = df[col].astype(np.int16)\n",
        "            elif -2147483648 <= min_value and max_value <= 2147483647:\n",
        "                df[col] = df[col].astype(np.int32)\n",
        "            else:\n",
        "                df[col] = df[col].astype(np.int64)\n",
        "    return df\n",
        "\n",
        "\n",
        "clean_df=auto_data_type(df)\n",
        "#df.info()\n"
      ],
      "metadata": {
        "id": "m-bcxVBe27R3"
      },
      "execution_count": 82,
      "outputs": []
    },
    {
      "cell_type": "markdown",
      "source": [
        "drop rows with missing Customer ID"
      ],
      "metadata": {
        "id": "ubIyn3SAuQBG"
      }
    },
    {
      "cell_type": "code",
      "source": [
        "df = df.dropna(subset=[\"Customer ID\"])\n",
        "df[\"Customer ID\"] = df[\"Customer ID\"].astype(np.uint16)"
      ],
      "metadata": {
        "id": "ZPCqCDrX3Xde"
      },
      "execution_count": 88,
      "outputs": []
    },
    {
      "cell_type": "markdown",
      "source": [
        "Remove rows with duplicate entries, missing and negative Quantity"
      ],
      "metadata": {
        "id": "z7cYBrpxu6vm"
      }
    },
    {
      "cell_type": "code",
      "source": [
        "df_copy=df.copy()\n",
        "df_copy = df_copy.drop_duplicates()\n",
        "df_copy = df_copy[df_copy[\"Quantity\"] >= 0]\n",
        "df_copy.info()\n"
      ],
      "metadata": {
        "colab": {
          "base_uri": "https://localhost:8080/"
        },
        "id": "LD7eAPMXoqHF",
        "outputId": "f4621f6f-d4eb-4d7e-ae2d-2a84d7b4e603"
      },
      "execution_count": 89,
      "outputs": [
        {
          "output_type": "stream",
          "name": "stdout",
          "text": [
            "<class 'pandas.core.frame.DataFrame'>\n",
            "Index: 400947 entries, 0 to 525460\n",
            "Data columns (total 8 columns):\n",
            " #   Column       Non-Null Count   Dtype         \n",
            "---  ------       --------------   -----         \n",
            " 0   Invoice      400947 non-null  object        \n",
            " 1   StockCode    400947 non-null  object        \n",
            " 2   Description  400947 non-null  object        \n",
            " 3   Quantity     400947 non-null  int16         \n",
            " 4   InvoiceDate  400947 non-null  datetime64[ns]\n",
            " 5   Price        400947 non-null  float32       \n",
            " 6   Customer ID  400947 non-null  uint16        \n",
            " 7   Country      400947 non-null  object        \n",
            "dtypes: datetime64[ns](1), float32(1), int16(1), object(4), uint16(1)\n",
            "memory usage: 21.4+ MB\n"
          ]
        }
      ]
    },
    {
      "cell_type": "markdown",
      "source": [
        "Encode Country column to numeric labels"
      ],
      "metadata": {
        "id": "HjO9sQhOvqX9"
      }
    },
    {
      "cell_type": "code",
      "source": [
        "le = LabelEncoder()\n",
        "df_copy[\"Country_Code\"] = le.fit_transform(df_copy[\"Country\"].astype(str)).astype(np.uint8)"
      ],
      "metadata": {
        "id": "_1EiTKxrvX1_"
      },
      "execution_count": 90,
      "outputs": []
    },
    {
      "cell_type": "code",
      "source": [
        "df_copy = df_copy.drop(columns=[\"Country\"])"
      ],
      "metadata": {
        "id": "EOmchWCwpFz0"
      },
      "execution_count": 91,
      "outputs": []
    },
    {
      "cell_type": "code",
      "source": [
        "df_copy.info()"
      ],
      "metadata": {
        "colab": {
          "base_uri": "https://localhost:8080/"
        },
        "id": "7JVj6vW7wMrH",
        "outputId": "e92ca450-876b-455c-cad2-fe3168278860"
      },
      "execution_count": 92,
      "outputs": [
        {
          "output_type": "stream",
          "name": "stdout",
          "text": [
            "<class 'pandas.core.frame.DataFrame'>\n",
            "Index: 400947 entries, 0 to 525460\n",
            "Data columns (total 8 columns):\n",
            " #   Column        Non-Null Count   Dtype         \n",
            "---  ------        --------------   -----         \n",
            " 0   Invoice       400947 non-null  object        \n",
            " 1   StockCode     400947 non-null  object        \n",
            " 2   Description   400947 non-null  object        \n",
            " 3   Quantity      400947 non-null  int16         \n",
            " 4   InvoiceDate   400947 non-null  datetime64[ns]\n",
            " 5   Price         400947 non-null  float32       \n",
            " 6   Customer ID   400947 non-null  uint16        \n",
            " 7   Country_Code  400947 non-null  uint8         \n",
            "dtypes: datetime64[ns](1), float32(1), int16(1), object(3), uint16(1), uint8(1)\n",
            "memory usage: 18.7+ MB\n"
          ]
        }
      ]
    }
  ]
}