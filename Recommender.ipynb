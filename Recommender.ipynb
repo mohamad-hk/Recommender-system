{
  "nbformat": 4,
  "nbformat_minor": 0,
  "metadata": {
    "colab": {
      "provenance": [],
      "gpuType": "T4",
      "authorship_tag": "ABX9TyMWE8y0LDzGtAeyjTmHMv4y"
    },
    "kernelspec": {
      "name": "python3",
      "display_name": "Python 3"
    },
    "language_info": {
      "name": "python"
    },
    "accelerator": "GPU"
  },
  "cells": [
    {
      "cell_type": "code",
      "source": [
        "import pandas as pd\n",
        "import numpy as np\n",
        "from sklearn.preprocessing import LabelEncoder\n",
        "import re\n",
        "from sklearn.feature_extraction.text import CountVectorizer\n",
        "from sklearn.metrics.pairwise import cosine_similarity\n",
        "from scipy.sparse import vstack\n"
      ],
      "metadata": {
        "id": "8UBE8C-yzcop"
      },
      "execution_count": null,
      "outputs": []
    },
    {
      "cell_type": "markdown",
      "source": [
        "Download data from kaggle"
      ],
      "metadata": {
        "id": "a2EZuBdLt_QX"
      }
    },
    {
      "cell_type": "code",
      "execution_count": null,
      "metadata": {
        "id": "MIbTkCEaxw_k"
      },
      "outputs": [],
      "source": [
        "#!mkdir ~/.kaggle\n",
        "#!cp kaggle.json ~/.kaggle/\n",
        "#!chmod 600 ~/.kaggle/kaggle.json\n",
        "#!kaggle datasets download -d lakshmi25npathi/online-retail-dataset"
      ]
    },
    {
      "cell_type": "markdown",
      "source": [
        "Extract Data"
      ],
      "metadata": {
        "id": "jRRrRt1CuFji"
      }
    },
    {
      "cell_type": "code",
      "source": [
        "#!unzip online-retail-dataset.zip\n",
        "df=pd.read_excel(\"online_retail.xlsx\")"
      ],
      "metadata": {
        "id": "SJvm0mIgzZzI"
      },
      "execution_count": null,
      "outputs": []
    },
    {
      "cell_type": "code",
      "source": [
        "df\n",
        "# df.info()\n",
        "# df.describe()"
      ],
      "metadata": {
        "id": "JmrHD1ke00Is"
      },
      "execution_count": null,
      "outputs": []
    },
    {
      "cell_type": "markdown",
      "source": [
        "Data type casting"
      ],
      "metadata": {
        "id": "fqJNOY0buJ3A"
      }
    },
    {
      "cell_type": "code",
      "source": [
        "def auto_data_type(df):\n",
        "    for col in df.select_dtypes(include=[np.number]).columns:\n",
        "        min_value = df[col].min()\n",
        "        max_value = df[col].max()\n",
        "\n",
        "        if pd.api.types.is_float_dtype(df[col]):\n",
        "            df[col] = df[col].astype(np.float32)\n",
        "        elif min_value >= 0:\n",
        "            if max_value <= 255:\n",
        "                df[col] = df[col].astype(np.uint8)\n",
        "            elif max_value <= 65535:\n",
        "                df[col] = df[col].astype(np.uint16)\n",
        "            elif max_value <= 4294967295:\n",
        "                df[col] = df[col].astype(np.uint32)\n",
        "            else:\n",
        "                df[col] = df[col].astype(np.uint64)\n",
        "        else:\n",
        "            if -128 <= min_value and max_value <= 127:\n",
        "                df[col] = df[col].astype(np.int8)\n",
        "            elif -32768 <= min_value and max_value <= 32767:\n",
        "                df[col] = df[col].astype(np.int16)\n",
        "            elif -2147483648 <= min_value and max_value <= 2147483647:\n",
        "                df[col] = df[col].astype(np.int32)\n",
        "            else:\n",
        "                df[col] = df[col].astype(np.int64)\n",
        "    return df\n",
        "\n",
        "\n",
        "clean_df=auto_data_type(df)\n",
        "#df.info()\n"
      ],
      "metadata": {
        "id": "m-bcxVBe27R3"
      },
      "execution_count": null,
      "outputs": []
    },
    {
      "cell_type": "markdown",
      "source": [
        "drop rows with missing Customer ID"
      ],
      "metadata": {
        "id": "ubIyn3SAuQBG"
      }
    },
    {
      "cell_type": "code",
      "source": [
        "df = df.dropna(subset=[\"Customer ID\"])\n",
        "df[\"Customer ID\"] = df[\"Customer ID\"].astype(np.uint16)"
      ],
      "metadata": {
        "id": "ZPCqCDrX3Xde"
      },
      "execution_count": null,
      "outputs": []
    },
    {
      "cell_type": "markdown",
      "source": [
        "Remove rows with duplicate entries, missing and negative Quantity"
      ],
      "metadata": {
        "id": "z7cYBrpxu6vm"
      }
    },
    {
      "cell_type": "code",
      "source": [
        "df_copy=df.copy()\n",
        "df_copy = df_copy.drop_duplicates()\n",
        "df_copy = df_copy[df_copy[\"Quantity\"] >= 0]\n",
        "df_copy.info()\n"
      ],
      "metadata": {
        "id": "LD7eAPMXoqHF"
      },
      "execution_count": null,
      "outputs": []
    },
    {
      "cell_type": "markdown",
      "source": [
        "Encode Country column to numeric labels"
      ],
      "metadata": {
        "id": "HjO9sQhOvqX9"
      }
    },
    {
      "cell_type": "code",
      "source": [
        "le = LabelEncoder()\n",
        "df_copy[\"Country_Code\"] = le.fit_transform(df_copy[\"Country\"].astype(str)).astype(np.uint8)"
      ],
      "metadata": {
        "id": "_1EiTKxrvX1_"
      },
      "execution_count": null,
      "outputs": []
    },
    {
      "cell_type": "code",
      "source": [
        "df_copy = df_copy.drop(columns=[\"Country\"])"
      ],
      "metadata": {
        "id": "EOmchWCwpFz0"
      },
      "execution_count": null,
      "outputs": []
    },
    {
      "cell_type": "code",
      "source": [
        "main_df = df_copy.copy()\n",
        "\n",
        "df_clean = main_df.copy()\n",
        "\n",
        "df_clean[\"Description\"] = df_clean[\"Description\"].astype(str).str.lower()\n",
        "df_clean[\"Description\"] = df_clean[\"Description\"].str.replace(r\"[^a-zA-Z0-9\\s]\", \" \", regex=True)\n",
        "df_clean[\"Description\"] = df_clean[\"Description\"].str.replace(r\"\\s+\", \" \", regex=True)\n",
        "\n",
        "invoice_df = df_clean.groupby(\"Invoice\")[\"Description\"].apply(lambda x: \" \".join(x)).reset_index()\n",
        "\n",
        "vectorizer = CountVectorizer(stop_words=\"english\")\n",
        "X = vectorizer.fit_transform(invoice_df[\"Description\"])\n",
        "\n",
        "#counter = vectorizer.vocabulary_.get(\"mug\")\n"
      ],
      "metadata": {
        "id": "AHABUEYN0BKM"
      },
      "execution_count": 91,
      "outputs": []
    },
    {
      "cell_type": "code",
      "source": [
        "user_input = input(\"Enter you product name:\")\n",
        "\n",
        "user_input = user_input.lower()\n",
        "user_input = user_input.replace(\",\", \" \")\n",
        "user_input = re.sub(r\"[^a-zA-Z0-9\\s]\", \"\", user_input)\n",
        "user_input = re.sub(r\"\\s+\", \" \", user_input).strip()\n",
        "\n",
        "user_vector = vectorizer.transform([user_input])\n",
        "\n",
        "if user_vector.nnz == 0:\n",
        "    print(\"No products found.\")\n",
        "else:\n",
        "    similarity_scores = cosine_similarity(user_vector, X).flatten()\n",
        "\n",
        "    sorted_scores = similarity_scores.argsort()[::-1]\n",
        "\n",
        "    most_similar_invoice = []\n",
        "    for i in sorted_scores:\n",
        "        if similarity_scores[i] < 0.999:\n",
        "            most_similar_invoice.append(i)\n",
        "        if len(most_similar_invoice) == 10:\n",
        "            break\n",
        "\n",
        "    for j in most_similar_invoice:\n",
        "      invoice_number = invoice_df.iloc[j]['Invoice']\n",
        "      similarity_score = similarity_scores[j]\n",
        "      print(f\"invoice number: {invoice_number} - similarity: {similarity_score:.6f}\")\n"
      ],
      "metadata": {
        "colab": {
          "base_uri": "https://localhost:8080/"
        },
        "id": "3BWSx71Z8nhR",
        "outputId": "1b09cb81-9a46-47a1-9cd5-4bc210ec90e6"
      },
      "execution_count": 172,
      "outputs": [
        {
          "output_type": "stream",
          "name": "stdout",
          "text": [
            "Enter you product name:black hat\n",
            "invoice number: 493883 - similarity: 0.447214\n",
            "invoice number: 532040 - similarity: 0.416025\n",
            "invoice number: 534457 - similarity: 0.408248\n",
            "invoice number: 511334 - similarity: 0.408248\n",
            "invoice number: 511463 - similarity: 0.408248\n",
            "invoice number: 511330 - similarity: 0.408248\n",
            "invoice number: 515933 - similarity: 0.408248\n",
            "invoice number: 496238 - similarity: 0.392232\n",
            "invoice number: 518765 - similarity: 0.392232\n",
            "invoice number: 492521 - similarity: 0.375000\n"
          ]
        }
      ]
    },
    {
      "cell_type": "code",
      "source": [
        "user_items = set(user_input.split())\n",
        "recommended_list = []\n",
        "tokens = []\n",
        "\n",
        "invoice_items_temp = df_clean.groupby(\"Invoice\")[\"Description\"].apply(list).reset_index()\n",
        "\n",
        "for i in most_similar_invoice:\n",
        "    descriptions = invoice_items_temp.iloc[i][\"Description\"]\n",
        "\n",
        "    for word in descriptions:\n",
        "        word = word.lower()\n",
        "        word = re.sub(r\"[^a-zA-Z0-9\\s]\", \"\", word)\n",
        "        word = re.sub(r\"\\s+\", \" \", word).strip()\n",
        "        for t in word.split():\n",
        "            if len(t) > 1:\n",
        "                tokens.append(t)\n",
        "\n",
        "\n",
        "        if len(tokens) >= 2 and tokens[0].isdigit():\n",
        "            phrase = tokens[0]\n",
        "            for j in range(1, min(len(tokens), 4)):\n",
        "                if tokens[j].isdigit():\n",
        "                    break\n",
        "                phrase += \" \" + tokens[j]\n",
        "            if not any(item in user_items for item in phrase.split()):\n",
        "                recommended_list.append(phrase)\n",
        "\n",
        "        for i in range(len(tokens) - 2):\n",
        "            group = tokens[i:i+4]\n",
        "            if any(item.isdigit() for item in group[1:]):\n",
        "                continue\n",
        "            if not any(item in user_items for item in group):\n",
        "                phrase = \" \".join(group)\n",
        "                recommended_list.append(phrase)\n",
        "\n",
        "recommended_list = list(set(recommended_list))\n",
        "print(\"\\n Recommended products list:\")\n",
        "counter = 0\n",
        "for item in recommended_list[:10]:\n",
        "    counter += 1\n",
        "    print(f\"{counter} - {item}\")\n",
        "\n"
      ],
      "metadata": {
        "colab": {
          "base_uri": "https://localhost:8080/"
        },
        "id": "C-ZfR8jiB3Oe",
        "outputId": "4ceaecd1-60c7-47c1-ae4d-1bda9be5961a"
      },
      "execution_count": 176,
      "outputs": [
        {
          "output_type": "stream",
          "name": "stdout",
          "text": [
            "\n",
            " Recommended products list:\n",
            "1 - wine glass retro spot\n",
            "2 - white necklace tassel\n",
            "3 - spot traditional teapot\n",
            "4 - dots ruffled umbrella\n",
            "5 - red white dots ruffled\n",
            "6 - light setting red white\n",
            "7 - retro spot traditional teapot\n",
            "8 - white dots ruffled umbrella\n",
            "9 - ruffled umbrella edwardian parasol\n",
            "10 - bead necklace tassel\n"
          ]
        }
      ]
    }
  ]
}